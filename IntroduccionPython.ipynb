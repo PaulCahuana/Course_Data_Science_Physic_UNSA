{
  "nbformat": 4,
  "nbformat_minor": 0,
  "metadata": {
    "colab": {
      "name": "IntroduccionPython.ipynb",
      "provenance": []
    },
    "kernelspec": {
      "name": "python3",
      "display_name": "Python 3"
    }
  },
  "cells": [
    {
      "cell_type": "code",
      "metadata": {
        "id": "C0EWYt9XAAD3",
        "outputId": "60c8b684-4ed5-43e9-b1ca-4481a6e94dfe",
        "colab": {
          "base_uri": "https://localhost:8080/",
          "height": 34
        }
      },
      "source": [
        "print(\"Hola mundo!\") #Paul dijo que es una función"
      ],
      "execution_count": 4,
      "outputs": [
        {
          "output_type": "stream",
          "text": [
            "Hola mundo!\n"
          ],
          "name": "stdout"
        }
      ]
    },
    {
      "cell_type": "code",
      "metadata": {
        "id": "JUYPh9oLDRT4"
      },
      "source": [
        "#sumas:\n",
        "#6/2\n",
        "x=2    #variable de tipo entero\n",
        "y=235\n",
        "s=\"hola\" #string"
      ],
      "execution_count": 23,
      "outputs": []
    },
    {
      "cell_type": "code",
      "metadata": {
        "id": "tE22_UInDR_J",
        "outputId": "130e850f-948f-469b-a924-941be6cb7ea9",
        "colab": {
          "base_uri": "https://localhost:8080/",
          "height": 34
        }
      },
      "source": [
        "print(x*s)"
      ],
      "execution_count": 24,
      "outputs": [
        {
          "output_type": "stream",
          "text": [
            "holahola\n"
          ],
          "name": "stdout"
        }
      ]
    },
    {
      "cell_type": "code",
      "metadata": {
        "id": "-65V5QWeDSGr",
        "outputId": "57de0a1a-6063-42b4-a2e1-18f73be291b4",
        "colab": {
          "base_uri": "https://localhost:8080/",
          "height": 34
        }
      },
      "source": [
        "numero1 = int(input(\"Escriba un número 1: \"))"
      ],
      "execution_count": 33,
      "outputs": [
        {
          "output_type": "stream",
          "text": [
            "Escriba un número 1: 10\n"
          ],
          "name": "stdout"
        }
      ]
    },
    {
      "cell_type": "code",
      "metadata": {
        "id": "omptLQ-fHKQv",
        "outputId": "91996a5f-b2cc-46f0-eb98-4f3568adb7e2",
        "colab": {
          "base_uri": "https://localhost:8080/",
          "height": 34
        }
      },
      "source": [
        "numero2 = int(input(\"Escriba un número 2: \"))"
      ],
      "execution_count": 34,
      "outputs": [
        {
          "output_type": "stream",
          "text": [
            "Escriba un número 2: 17\n"
          ],
          "name": "stdout"
        }
      ]
    },
    {
      "cell_type": "code",
      "metadata": {
        "id": "br6wFPmKDSOZ",
        "outputId": "dd994a95-7f88-4585-87f0-e1c47741bb5a",
        "colab": {
          "base_uri": "https://localhost:8080/",
          "height": 34
        }
      },
      "source": [
        "print(\"La multiplicación es: \", numero1*numero2)"
      ],
      "execution_count": 36,
      "outputs": [
        {
          "output_type": "stream",
          "text": [
            "La multiplicación es:  170\n"
          ],
          "name": "stdout"
        }
      ]
    },
    {
      "cell_type": "code",
      "metadata": {
        "id": "87KGF9wGG0ol"
      },
      "source": [
        "# palabras reservadas: if,else,while,for"
      ],
      "execution_count": null,
      "outputs": []
    },
    {
      "cell_type": "code",
      "metadata": {
        "id": "BTYmwHBhG0q-",
        "outputId": "1e365d1b-bc35-41d0-fc3d-4d7bf295021b",
        "colab": {
          "base_uri": "https://localhost:8080/",
          "height": 34
        }
      },
      "source": [
        "# == \"¿ES EXACTAMENTE IGUAL?\"\n",
        "if(numero1==11):\n",
        "  print(\"ES UN 10!\")\n",
        "else: # <-  si no cumple en el if, salta aquí \n",
        "  print( \"NO ES UN 1O :(\" )\n"
      ],
      "execution_count": 39,
      "outputs": [
        {
          "output_type": "stream",
          "text": [
            "NO ES UN 1O :(\n"
          ],
          "name": "stdout"
        }
      ]
    },
    {
      "cell_type": "code",
      "metadata": {
        "id": "GKZwdo-7G0tK",
        "outputId": "d142dd57-fa50-4797-e6ce-5d5b815d61e5",
        "colab": {
          "base_uri": "https://localhost:8080/",
          "height": 193
        }
      },
      "source": [
        "contador=0\n",
        "#mientras\n",
        "while(contador<5):\n",
        "  print(\"hola\")\n",
        "  contador=contador+1\n",
        "  if(contador==3):\n",
        "    print(\"ENCONTRE UN 3!\")\n",
        "  else:\n",
        "    print(\"No es un 3 :(\")"
      ],
      "execution_count": 45,
      "outputs": [
        {
          "output_type": "stream",
          "text": [
            "hola\n",
            "No es un 3 :(\n",
            "hola\n",
            "No es un 3 :(\n",
            "hola\n",
            "ENCONTRE UN 3!\n",
            "hola\n",
            "No es un 3 :(\n",
            "hola\n",
            "No es un 3 :(\n"
          ],
          "name": "stdout"
        }
      ]
    },
    {
      "cell_type": "code",
      "metadata": {
        "id": "u1eP_g4EG0w7",
        "outputId": "be8973c9-d041-4970-95f9-a8ab03a1ebd3",
        "colab": {
          "base_uri": "https://localhost:8080/",
          "height": 34
        }
      },
      "source": [
        "numero1"
      ],
      "execution_count": 50,
      "outputs": [
        {
          "output_type": "execute_result",
          "data": {
            "text/plain": [
              "10"
            ]
          },
          "metadata": {
            "tags": []
          },
          "execution_count": 50
        }
      ]
    },
    {
      "cell_type": "code",
      "metadata": {
        "id": "QUHnk2TLG0zE"
      },
      "source": [
        "numero1=234*2"
      ],
      "execution_count": 57,
      "outputs": []
    },
    {
      "cell_type": "code",
      "metadata": {
        "id": "AlSjF29QG00w",
        "outputId": "2e565640-b6dc-4507-d4f6-27f667d17c55",
        "colab": {
          "base_uri": "https://localhost:8080/",
          "height": 34
        }
      },
      "source": [
        "numero1"
      ],
      "execution_count": 58,
      "outputs": [
        {
          "output_type": "execute_result",
          "data": {
            "text/plain": [
              "468"
            ]
          },
          "metadata": {
            "tags": []
          },
          "execution_count": 58
        }
      ]
    },
    {
      "cell_type": "code",
      "metadata": {
        "id": "3ldOdISbG0u9",
        "outputId": "aba1cce4-a20e-4e81-f189-c2890c768615",
        "colab": {
          "base_uri": "https://localhost:8080/",
          "height": 105
        }
      },
      "source": [
        "frutas=[\"manzana\", \"pera\",\"fresa\", \"mango\",numero1]\n",
        "# c++:  List<Integer> numeros={1,2,3,45};\n",
        "for i in frutas:\n",
        "  #pueden trabajar con if, while\n",
        "  print(i)"
      ],
      "execution_count": 59,
      "outputs": [
        {
          "output_type": "stream",
          "text": [
            "manzana\n",
            "pera\n",
            "fresa\n",
            "mango\n",
            "468\n"
          ],
          "name": "stdout"
        }
      ]
    },
    {
      "cell_type": "code",
      "metadata": {
        "id": "WsahdEpbRAQr"
      },
      "source": [
        "cont=10 #declaración\n",
        "palabra=\"Juan\" \n",
        "while(cont<20):\n",
        "  cont=cont+1\n",
        "  palabra = \"Jorge\""
      ],
      "execution_count": 80,
      "outputs": []
    },
    {
      "cell_type": "code",
      "metadata": {
        "id": "fgw8eTcQRAXH"
      },
      "source": [
        "X=3"
      ],
      "execution_count": 69,
      "outputs": []
    },
    {
      "cell_type": "code",
      "metadata": {
        "id": "H6mv6rCqRAbV"
      },
      "source": [
        "x=4"
      ],
      "execution_count": 70,
      "outputs": []
    },
    {
      "cell_type": "code",
      "metadata": {
        "id": "VlfnSt5GRAdP"
      },
      "source": [
        "nombre_de_mi_mama=\"Elisa\" # buena práctica de programación\n",
        "x=\"Elisa\" # mala práctica de programación"
      ],
      "execution_count": 92,
      "outputs": []
    },
    {
      "cell_type": "code",
      "metadata": {
        "id": "g0LotEOjRAfV",
        "outputId": "a7e00f6c-f00c-40e3-a05a-f3268c01c062",
        "colab": {
          "base_uri": "https://localhost:8080/",
          "height": 34
        }
      },
      "source": [
        "print(50-100)"
      ],
      "execution_count": 91,
      "outputs": [
        {
          "output_type": "stream",
          "text": [
            "-50\n"
          ],
          "name": "stdout"
        }
      ]
    },
    {
      "cell_type": "code",
      "metadata": {
        "id": "zcp3r61URAin"
      },
      "source": [
        "#def  = función\n",
        "def sumar(parametro1,parametro2):\n",
        "  suma=parametro1+parametro2\n",
        "  return suma\n",
        "\n",
        "def operacion(num1,num2,num3,num4):\n",
        "  multiplicacion=num1*num3\n",
        "  suma=num2+num4\n",
        "  resultado=multiplicacion+suma\n",
        "  var3=3 #no recomendable dejar variables sin usar\n",
        "  return resultado"
      ],
      "execution_count": 112,
      "outputs": []
    },
    {
      "cell_type": "code",
      "metadata": {
        "id": "Z9QWLCyZUdjn",
        "outputId": "61552760-3446-4417-9204-afa378e06eb7",
        "colab": {
          "base_uri": "https://localhost:8080/",
          "height": 34
        }
      },
      "source": [
        "suma_de_numeros= sumar(5,4)\n",
        "print(suma_de)"
      ],
      "execution_count": 98,
      "outputs": [
        {
          "output_type": "stream",
          "text": [
            "9\n"
          ],
          "name": "stdout"
        }
      ]
    },
    {
      "cell_type": "code",
      "metadata": {
        "id": "R2HOMxPzUdlt",
        "outputId": "582c18e5-3c6c-4398-b286-212ad0d86df3",
        "colab": {
          "base_uri": "https://localhost:8080/",
          "height": 34
        }
      },
      "source": [
        "opera1=operacion(2,4,3,7)\n",
        "opera"
      ],
      "execution_count": 113,
      "outputs": [
        {
          "output_type": "execute_result",
          "data": {
            "text/plain": [
              "17"
            ]
          },
          "metadata": {
            "tags": []
          },
          "execution_count": 113
        }
      ]
    },
    {
      "cell_type": "code",
      "metadata": {
        "id": "VEwNQVeiUdnr",
        "outputId": "330af25d-5544-4223-ba04-35b69921723b",
        "colab": {
          "base_uri": "https://localhost:8080/",
          "height": 34
        }
      },
      "source": [
        "opera2=operacion(1,5,4,3)\n",
        "opera2"
      ],
      "execution_count": 114,
      "outputs": [
        {
          "output_type": "execute_result",
          "data": {
            "text/plain": [
              "12"
            ]
          },
          "metadata": {
            "tags": []
          },
          "execution_count": 114
        }
      ]
    },
    {
      "cell_type": "code",
      "metadata": {
        "id": "_7btTQWmUdp7"
      },
      "source": [
        "#CLASES\n",
        "#También llamado POO = programación orientada a objetos"
      ],
      "execution_count": null,
      "outputs": []
    },
    {
      "cell_type": "code",
      "metadata": {
        "id": "mdepnsIgUdsW"
      },
      "source": [
        "#personas\n",
        "#nombre\n",
        "#apellidos\n",
        "#edad\n",
        "#dni\n",
        "#direccion\n"
      ],
      "execution_count": null,
      "outputs": []
    },
    {
      "cell_type": "code",
      "metadata": {
        "id": "TOV6ZdTpY5IG"
      },
      "source": [
        "class Persona:\n",
        "  #los metodos o funciones\n",
        "  def __init__(self,nombre_,apellido_,edad_,dni_,direccion_):\n",
        "    self.nombre=nombre_\n",
        "    self.apellido=apellido_\n",
        "    self.edad=edad_\n",
        "    self.dni=dni_\n",
        "    self.direccion=direccion_\n"
      ],
      "execution_count": 125,
      "outputs": []
    },
    {
      "cell_type": "code",
      "metadata": {
        "id": "JHxmYBIPZvbi"
      },
      "source": [
        "persona1=Persona(\"George\",\"Nina\",27,73274970,\"Calle Melgar 203, JLByR\")\n",
        "persona2=Persona(\"Luis\",\"Carbajal\",12,37597539,\"Calle Chavin De huantar 120\")\n",
        "persona3=Persona(\"Luisa\",\"Apaza\",67,76347894,\"Cercado Av. Independencia 302\")\n"
      ],
      "execution_count": 127,
      "outputs": []
    },
    {
      "cell_type": "code",
      "metadata": {
        "id": "h4Il_-ONZvfG",
        "outputId": "adde3c0e-5ceb-453c-9740-49a138318450",
        "colab": {
          "base_uri": "https://localhost:8080/",
          "height": 34
        }
      },
      "source": [
        "persona2.edad"
      ],
      "execution_count": 129,
      "outputs": [
        {
          "output_type": "execute_result",
          "data": {
            "text/plain": [
              "12"
            ]
          },
          "metadata": {
            "tags": []
          },
          "execution_count": 129
        }
      ]
    },
    {
      "cell_type": "code",
      "metadata": {
        "id": "5lZpu7Buau6G",
        "outputId": "34cff0d3-e149-415f-ac5f-4f32e4d5046c",
        "colab": {
          "base_uri": "https://localhost:8080/",
          "height": 34
        }
      },
      "source": [
        "persona3.dni"
      ],
      "execution_count": 130,
      "outputs": [
        {
          "output_type": "execute_result",
          "data": {
            "text/plain": [
              "76347894"
            ]
          },
          "metadata": {
            "tags": []
          },
          "execution_count": 130
        }
      ]
    },
    {
      "cell_type": "code",
      "metadata": {
        "id": "Ex8j5dbAced3"
      },
      "source": [
        "# crear clase calculadora () ->funciones ->parametros->variables->prueben con if ->return ->resultado"
      ],
      "execution_count": null,
      "outputs": []
    }
  ]
}