{
 "cells": [
  {
   "cell_type": "code",
   "execution_count": 4,
   "metadata": {
    "colab": {
     "base_uri": "https://localhost:8080/",
     "height": 34
    },
    "id": "C0EWYt9XAAD3",
    "outputId": "60c8b684-4ed5-43e9-b1ca-4481a6e94dfe"
   },
   "outputs": [
    {
     "name": "stdout",
     "output_type": "stream",
     "text": [
      "Hola mundo!\n"
     ]
    }
   ],
   "source": [
    "print(\"Hola mundo!\") #Paul dijo que es una función"
   ]
  },
  {
   "cell_type": "code",
   "execution_count": 23,
   "metadata": {
    "id": "JUYPh9oLDRT4"
   },
   "outputs": [],
   "source": [
    "#sumas:\n",
    "#6/2\n",
    "x=2    #variable de tipo entero\n",
    "y=235\n",
    "s=\"hola\" #string"
   ]
  },
  {
   "cell_type": "code",
   "execution_count": 24,
   "metadata": {
    "colab": {
     "base_uri": "https://localhost:8080/",
     "height": 34
    },
    "id": "tE22_UInDR_J",
    "outputId": "130e850f-948f-469b-a924-941be6cb7ea9"
   },
   "outputs": [
    {
     "name": "stdout",
     "output_type": "stream",
     "text": [
      "holahola\n"
     ]
    }
   ],
   "source": [
    "print(x*s)"
   ]
  },
  {
   "cell_type": "code",
   "execution_count": 33,
   "metadata": {
    "colab": {
     "base_uri": "https://localhost:8080/",
     "height": 34
    },
    "id": "-65V5QWeDSGr",
    "outputId": "57de0a1a-6063-42b4-a2e1-18f73be291b4"
   },
   "outputs": [
    {
     "name": "stdout",
     "output_type": "stream",
     "text": [
      "Escriba un número 1: 10\n"
     ]
    }
   ],
   "source": [
    "numero1 = int(input(\"Escriba un número 1: \"))"
   ]
  },
  {
   "cell_type": "code",
   "execution_count": 34,
   "metadata": {
    "colab": {
     "base_uri": "https://localhost:8080/",
     "height": 34
    },
    "id": "omptLQ-fHKQv",
    "outputId": "91996a5f-b2cc-46f0-eb98-4f3568adb7e2"
   },
   "outputs": [
    {
     "name": "stdout",
     "output_type": "stream",
     "text": [
      "Escriba un número 2: 17\n"
     ]
    }
   ],
   "source": [
    "numero2 = int(input(\"Escriba un número 2: \"))"
   ]
  },
  {
   "cell_type": "code",
   "execution_count": 36,
   "metadata": {
    "colab": {
     "base_uri": "https://localhost:8080/",
     "height": 34
    },
    "id": "br6wFPmKDSOZ",
    "outputId": "dd994a95-7f88-4585-87f0-e1c47741bb5a"
   },
   "outputs": [
    {
     "name": "stdout",
     "output_type": "stream",
     "text": [
      "La multiplicación es:  170\n"
     ]
    }
   ],
   "source": [
    "print(\"La multiplicación es: \", numero1*numero2)"
   ]
  },
  {
   "cell_type": "code",
   "execution_count": null,
   "metadata": {
    "id": "87KGF9wGG0ol"
   },
   "outputs": [],
   "source": [
    "# palabras reservadas: if,else,while,for"
   ]
  },
  {
   "cell_type": "code",
   "execution_count": 39,
   "metadata": {
    "colab": {
     "base_uri": "https://localhost:8080/",
     "height": 34
    },
    "id": "BTYmwHBhG0q-",
    "outputId": "1e365d1b-bc35-41d0-fc3d-4d7bf295021b"
   },
   "outputs": [
    {
     "name": "stdout",
     "output_type": "stream",
     "text": [
      "NO ES UN 1O :(\n"
     ]
    }
   ],
   "source": [
    "# == \"¿ES EXACTAMENTE IGUAL?\"\n",
    "if(numero1==11):\n",
    "  print(\"ES UN 10!\")\n",
    "else: # <-  si no cumple en el if, salta aquí \n",
    "  print( \"NO ES UN 1O :(\" )\n"
   ]
  },
  {
   "cell_type": "code",
   "execution_count": 45,
   "metadata": {
    "colab": {
     "base_uri": "https://localhost:8080/",
     "height": 193
    },
    "id": "GKZwdo-7G0tK",
    "outputId": "d142dd57-fa50-4797-e6ce-5d5b815d61e5"
   },
   "outputs": [
    {
     "name": "stdout",
     "output_type": "stream",
     "text": [
      "hola\n",
      "No es un 3 :(\n",
      "hola\n",
      "No es un 3 :(\n",
      "hola\n",
      "ENCONTRE UN 3!\n",
      "hola\n",
      "No es un 3 :(\n",
      "hola\n",
      "No es un 3 :(\n"
     ]
    }
   ],
   "source": [
    "contador=0\n",
    "#mientras\n",
    "while(contador<5):\n",
    "  print(\"hola\")\n",
    "  contador=contador+1\n",
    "  if(contador==3):\n",
    "    print(\"ENCONTRE UN 3!\")\n",
    "  else:\n",
    "    print(\"No es un 3 :(\")"
   ]
  },
  {
   "cell_type": "code",
   "execution_count": 50,
   "metadata": {
    "colab": {
     "base_uri": "https://localhost:8080/",
     "height": 34
    },
    "id": "u1eP_g4EG0w7",
    "outputId": "be8973c9-d041-4970-95f9-a8ab03a1ebd3"
   },
   "outputs": [
    {
     "data": {
      "text/plain": [
       "10"
      ]
     },
     "execution_count": 50,
     "metadata": {
      "tags": []
     },
     "output_type": "execute_result"
    }
   ],
   "source": [
    "numero1"
   ]
  },
  {
   "cell_type": "code",
   "execution_count": 57,
   "metadata": {
    "id": "QUHnk2TLG0zE"
   },
   "outputs": [],
   "source": [
    "numero1=234*2"
   ]
  },
  {
   "cell_type": "code",
   "execution_count": 58,
   "metadata": {
    "colab": {
     "base_uri": "https://localhost:8080/",
     "height": 34
    },
    "id": "AlSjF29QG00w",
    "outputId": "2e565640-b6dc-4507-d4f6-27f667d17c55"
   },
   "outputs": [
    {
     "data": {
      "text/plain": [
       "468"
      ]
     },
     "execution_count": 58,
     "metadata": {
      "tags": []
     },
     "output_type": "execute_result"
    }
   ],
   "source": [
    "numero1"
   ]
  },
  {
   "cell_type": "code",
   "execution_count": 59,
   "metadata": {
    "colab": {
     "base_uri": "https://localhost:8080/",
     "height": 105
    },
    "id": "3ldOdISbG0u9",
    "outputId": "aba1cce4-a20e-4e81-f189-c2890c768615"
   },
   "outputs": [
    {
     "name": "stdout",
     "output_type": "stream",
     "text": [
      "manzana\n",
      "pera\n",
      "fresa\n",
      "mango\n",
      "468\n"
     ]
    }
   ],
   "source": [
    "frutas=[\"manzana\", \"pera\",\"fresa\", \"mango\",numero1]\n",
    "# c++:  List<Integer> numeros={1,2,3,45};\n",
    "for i in frutas:\n",
    "  #pueden trabajar con if, while\n",
    "  print(i)"
   ]
  },
  {
   "cell_type": "code",
   "execution_count": 80,
   "metadata": {
    "id": "WsahdEpbRAQr"
   },
   "outputs": [],
   "source": [
    "cont=10 #declaración\n",
    "palabra=\"Juan\" \n",
    "while(cont<20):\n",
    "  cont=cont+1\n",
    "  palabra = \"Jorge\""
   ]
  },
  {
   "cell_type": "code",
   "execution_count": 69,
   "metadata": {
    "id": "fgw8eTcQRAXH"
   },
   "outputs": [],
   "source": [
    "X=3"
   ]
  },
  {
   "cell_type": "code",
   "execution_count": 70,
   "metadata": {
    "id": "H6mv6rCqRAbV"
   },
   "outputs": [],
   "source": [
    "x=4"
   ]
  },
  {
   "cell_type": "code",
   "execution_count": 92,
   "metadata": {
    "id": "VlfnSt5GRAdP"
   },
   "outputs": [],
   "source": [
    "nombre_de_mi_mama=\"Elisa\" # buena práctica de programación\n",
    "x=\"Elisa\" # mala práctica de programación"
   ]
  },
  {
   "cell_type": "code",
   "execution_count": 91,
   "metadata": {
    "colab": {
     "base_uri": "https://localhost:8080/",
     "height": 34
    },
    "id": "g0LotEOjRAfV",
    "outputId": "a7e00f6c-f00c-40e3-a05a-f3268c01c062"
   },
   "outputs": [
    {
     "name": "stdout",
     "output_type": "stream",
     "text": [
      "-50\n"
     ]
    }
   ],
   "source": [
    "print(50-100)"
   ]
  },
  {
   "cell_type": "code",
   "execution_count": 112,
   "metadata": {
    "id": "zcp3r61URAin"
   },
   "outputs": [],
   "source": [
    "#def  = función\n",
    "def sumar(parametro1,parametro2):\n",
    "  suma=parametro1+parametro2\n",
    "  return suma\n",
    "\n",
    "def operacion(num1,num2,num3,num4):\n",
    "  multiplicacion=num1*num3\n",
    "  suma=num2+num4\n",
    "  resultado=multiplicacion+suma\n",
    "  var3=3 #no recomendable dejar variables sin usar\n",
    "  return resultado"
   ]
  },
  {
   "cell_type": "code",
   "execution_count": 98,
   "metadata": {
    "colab": {
     "base_uri": "https://localhost:8080/",
     "height": 34
    },
    "id": "Z9QWLCyZUdjn",
    "outputId": "61552760-3446-4417-9204-afa378e06eb7"
   },
   "outputs": [
    {
     "name": "stdout",
     "output_type": "stream",
     "text": [
      "9\n"
     ]
    }
   ],
   "source": [
    "suma_de_numeros= sumar(5,4)\n",
    "print(suma_de)"
   ]
  },
  {
   "cell_type": "code",
   "execution_count": 113,
   "metadata": {
    "colab": {
     "base_uri": "https://localhost:8080/",
     "height": 34
    },
    "id": "R2HOMxPzUdlt",
    "outputId": "582c18e5-3c6c-4398-b286-212ad0d86df3"
   },
   "outputs": [
    {
     "data": {
      "text/plain": [
       "17"
      ]
     },
     "execution_count": 113,
     "metadata": {
      "tags": []
     },
     "output_type": "execute_result"
    }
   ],
   "source": [
    "opera1=operacion(2,4,3,7)\n",
    "opera"
   ]
  },
  {
   "cell_type": "code",
   "execution_count": 114,
   "metadata": {
    "colab": {
     "base_uri": "https://localhost:8080/",
     "height": 34
    },
    "id": "VEwNQVeiUdnr",
    "outputId": "330af25d-5544-4223-ba04-35b69921723b"
   },
   "outputs": [
    {
     "data": {
      "text/plain": [
       "12"
      ]
     },
     "execution_count": 114,
     "metadata": {
      "tags": []
     },
     "output_type": "execute_result"
    }
   ],
   "source": [
    "opera2=operacion(1,5,4,3)\n",
    "opera2"
   ]
  },
  {
   "cell_type": "code",
   "execution_count": null,
   "metadata": {
    "id": "_7btTQWmUdp7"
   },
   "outputs": [],
   "source": [
    "#CLASES\n",
    "#También llamado POO = programación orientada a objetos"
   ]
  },
  {
   "cell_type": "code",
   "execution_count": null,
   "metadata": {
    "id": "mdepnsIgUdsW"
   },
   "outputs": [],
   "source": [
    "#personas\n",
    "#nombre\n",
    "#apellidos\n",
    "#edad\n",
    "#dni\n",
    "#direccion\n"
   ]
  },
  {
   "cell_type": "code",
   "execution_count": 125,
   "metadata": {
    "id": "TOV6ZdTpY5IG"
   },
   "outputs": [],
   "source": [
    "class Persona:\n",
    "  #los metodos o funciones\n",
    "  def __init__(self,nombre_,apellido_,edad_,dni_,direccion_):\n",
    "    self.nombre=nombre_\n",
    "    self.apellido=apellido_\n",
    "    self.edad=edad_\n",
    "    self.dni=dni_\n",
    "    self.direccion=direccion_\n"
   ]
  },
  {
   "cell_type": "code",
   "execution_count": 127,
   "metadata": {
    "id": "JHxmYBIPZvbi"
   },
   "outputs": [],
   "source": [
    "persona1=Persona(\"George\",\"Nina\",27,73274970,\"Calle Melgar 203, JLByR\")\n",
    "persona2=Persona(\"Luis\",\"Carbajal\",12,37597539,\"Calle Chavin De huantar 120\")\n",
    "persona3=Persona(\"Luisa\",\"Apaza\",67,76347894,\"Cercado Av. Independencia 302\")\n"
   ]
  },
  {
   "cell_type": "code",
   "execution_count": 129,
   "metadata": {
    "colab": {
     "base_uri": "https://localhost:8080/",
     "height": 34
    },
    "id": "h4Il_-ONZvfG",
    "outputId": "adde3c0e-5ceb-453c-9740-49a138318450"
   },
   "outputs": [
    {
     "data": {
      "text/plain": [
       "12"
      ]
     },
     "execution_count": 129,
     "metadata": {
      "tags": []
     },
     "output_type": "execute_result"
    }
   ],
   "source": [
    "persona2.edad"
   ]
  },
  {
   "cell_type": "code",
   "execution_count": 130,
   "metadata": {
    "colab": {
     "base_uri": "https://localhost:8080/",
     "height": 34
    },
    "id": "5lZpu7Buau6G",
    "outputId": "34cff0d3-e149-415f-ac5f-4f32e4d5046c"
   },
   "outputs": [
    {
     "data": {
      "text/plain": [
       "76347894"
      ]
     },
     "execution_count": 130,
     "metadata": {
      "tags": []
     },
     "output_type": "execute_result"
    }
   ],
   "source": [
    "persona3.dni"
   ]
  },
  {
   "cell_type": "code",
   "execution_count": null,
   "metadata": {
    "id": "Ex8j5dbAced3"
   },
   "outputs": [],
   "source": [
    "# Reto: Crear una calculadora básica, utilizando las clases y funciones aprendidas :)!"
   ]
  }
 ],
 "metadata": {
  "colab": {
   "name": "IntroduccionPython.ipynb",
   "provenance": []
  },
  "kernelspec": {
   "display_name": "Python 3",
   "language": "python",
   "name": "python3"
  },
  "language_info": {
   "codemirror_mode": {
    "name": "ipython",
    "version": 3
   },
   "file_extension": ".py",
   "mimetype": "text/x-python",
   "name": "python",
   "nbconvert_exporter": "python",
   "pygments_lexer": "ipython3",
   "version": "3.7.6"
  }
 },
 "nbformat": 4,
 "nbformat_minor": 4
}
